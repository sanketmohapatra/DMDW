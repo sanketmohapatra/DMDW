{
 "cells": [
  {
   "cell_type": "code",
   "execution_count": 5,
   "id": "d641000b",
   "metadata": {},
   "outputs": [
    {
     "name": "stdout",
     "output_type": "stream",
     "text": [
      "Mean/Average is: 3.0\n"
     ]
    }
   ],
   "source": [
    " n_num=[1,2,3,4,5]\n",
    " n=len(n_num)\n",
    "get_sum=sum(n_num)\n",
    "mean=get_sum/n\n",
    "print(\"Mean/Average is: \"+str(mean))\n"
   ]
  },
  {
   "cell_type": "code",
   "execution_count": 22,
   "id": "1555f060",
   "metadata": {},
   "outputs": [
    {
     "name": "stdout",
     "output_type": "stream",
     "text": [
      "Median is: 3\n"
     ]
    }
   ],
   "source": [
    "n_num=[1,2,3,4,5]\n",
    "n=len(n_num)\n",
    "n_num.sort()\n",
    "if n%2 == 0:\n",
    " median1=n_num[n//2]\n",
    " median2=n_num[n//2-1]\n",
    " median=(median1+median2)/2\n",
    "else:\n",
    " median=n_num[n//2]\n",
    "print(\"Median is: \"+str(median))\n"
   ]
  },
  {
   "cell_type": "code",
   "execution_count": 19,
   "id": "fac54135",
   "metadata": {},
   "outputs": [
    {
     "name": "stdout",
     "output_type": "stream",
     "text": [
      "Mode is / are: 5\n"
     ]
    }
   ],
   "source": [
    "from collections import Counter \n",
    "n_num=[1, 2, 3, 4, 5, 5] \n",
    "n = len(n_num) \n",
    "data = Counter(n_num) \n",
    "get_mode = dict(data) \n",
    "mode = [k for k, v in get_mode.items() if v== max(list(data.values()))] \n",
    "if len(mode) == n: \n",
    " get_mode = \"No mode found\"\n",
    "else: \n",
    " get_mode = \"Mode is / are: \" + ', '.join(map(str, mode)) \n",
    "print(get_mode) \n"
   ]
  },
  {
   "cell_type": "code",
   "execution_count": 24,
   "id": "2ccf9f3f",
   "metadata": {},
   "outputs": [
    {
     "name": "stdout",
     "output_type": "stream",
     "text": [
      "Variance (using library function): 2.5\n",
      "Standard Deviation (using library function): 1.5811388300841898\n",
      "Variance (without using library function): 2.5\n",
      "Standard Deviation (without using library function): 1.5811388300841898\n"
     ]
    }
   ],
   "source": [
    "import math\n",
    "from statistics import variance, stdev\n",
    "\n",
    "def calculate_variance(numbers):\n",
    "    n = len(numbers)\n",
    "    mean = sum(numbers) / n\n",
    "    return sum((x - mean) ** 2 for x in numbers) / (n - 1)\n",
    "\n",
    "def calculate_stdev(numbers):\n",
    "    var = calculate_variance(numbers)\n",
    "    return math.sqrt(var)\n",
    "\n",
    "numbers = [1, 2, 3, 4, 5]\n",
    "\n",
    "print(\"Variance (using library function):\", variance(numbers))\n",
    "print(\"Standard Deviation (using library function):\", stdev(numbers))\n",
    "\n",
    "print(\"Variance (without using library function):\", calculate_variance(numbers))\n",
    "print(\"Standard Deviation (without using library function):\", calculate_stdev(numbers))\n"
   ]
  },
  {
   "cell_type": "code",
   "execution_count": null,
   "id": "e7c37e0d",
   "metadata": {},
   "outputs": [],
   "source": []
  }
 ],
 "metadata": {
  "kernelspec": {
   "display_name": "Python 3 (ipykernel)",
   "language": "python",
   "name": "python3"
  },
  "language_info": {
   "codemirror_mode": {
    "name": "ipython",
    "version": 3
   },
   "file_extension": ".py",
   "mimetype": "text/x-python",
   "name": "python",
   "nbconvert_exporter": "python",
   "pygments_lexer": "ipython3",
   "version": "3.10.9"
  }
 },
 "nbformat": 4,
 "nbformat_minor": 5
}
